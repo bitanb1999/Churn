{
  "nbformat": 4,
  "nbformat_minor": 0,
  "metadata": {
    "kernelspec": {
      "name": "python3",
      "display_name": "Python 3",
      "language": "python"
    },
    "colab": {
      "name": "churn.ipynb",
      "provenance": [],
      "toc_visible": true,
      "include_colab_link": true
    }
  },
  "cells": [
    {
      "cell_type": "markdown",
      "metadata": {
        "id": "view-in-github",
        "colab_type": "text"
      },
      "source": [
        "<a href=\"https://colab.research.google.com/github/bitanb1999/Churn/blob/main/churn.ipynb\" target=\"_parent\"><img src=\"https://colab.research.google.com/assets/colab-badge.svg\" alt=\"Open In Colab\"/></a>"
      ]
    },
    {
      "cell_type": "markdown",
      "metadata": {
        "id": "ifK8vXnvykEC"
      },
      "source": [
        "# Comparing and evaluating models using ROC and Profit/Cost curves\n"
      ]
    },
    {
      "cell_type": "code",
      "metadata": {
        "id": "4FDXWOQTykEG"
      },
      "source": [
        "%matplotlib inline\n",
        "import numpy as np\n",
        "import scipy as sp\n",
        "import matplotlib as mpl\n",
        "import matplotlib.cm as cm\n",
        "import matplotlib.pyplot as plt\n",
        "import pandas as pd\n",
        "import seaborn as sns"
      ],
      "execution_count": 1,
      "outputs": []
    },
    {
      "cell_type": "code",
      "metadata": {
        "id": "9vFwOYt5ykEK"
      },
      "source": [
        "from sklearn.model_selection import GridSearchCV\n",
        "from sklearn.model_selection import train_test_split\n",
        "from sklearn.metrics import confusion_matrix\n",
        "def cv_optimize(clf, parameters, X, y, n_jobs=1, n_folds=5, score_func=None):\n",
        "    if score_func:\n",
        "        print(\"SCORE FUNC\", score_func)\n",
        "        gs = GridSearchCV(clf, param_grid=parameters, cv=n_folds, n_jobs=n_jobs, scoring=score_func)\n",
        "    else:\n",
        "        gs = GridSearchCV(clf, param_grid=parameters, n_jobs=n_jobs, cv=n_folds)\n",
        "    gs.fit(X, y)\n",
        "    print(\"BEST\", gs.best_params_, gs.best_score_)\n",
        "    best = gs.best_estimator_\n",
        "    return best\n",
        "def do_classify(clf, parameters, indf, featurenames, targetname, target1val, mask=None, reuse_split=None, score_func=None, n_folds=5, n_jobs=1):\n",
        "    subdf=indf[featurenames]\n",
        "    X=subdf.values\n",
        "    y=(indf[targetname].values==target1val)*1\n",
        "    if reuse_split !=None:\n",
        "        print(\"using reuse split\")\n",
        "        Xtrain, Xtest, ytrain, ytest = reuse_split['Xtrain'], reuse_split['Xtest'], reuse_split['ytrain'], reuse_split['ytest']\n",
        "    else:\n",
        "        Xtrain, Xtest, ytrain, ytest = X[mask], X[~mask], y[mask], y[~mask] \n",
        "    if parameters:\n",
        "        clf = cv_optimize(clf, parameters, Xtrain, ytrain, n_jobs=n_jobs, n_folds=n_folds, score_func=score_func)\n",
        "    clf=clf.fit(Xtrain, ytrain)\n",
        "    training_accuracy = clf.score(Xtrain, ytrain)\n",
        "    test_accuracy = clf.score(Xtest, ytest)\n",
        "    print(\"############# based on standard predict ################\")\n",
        "    print(\"Accuracy on training data: %0.2f\" % (training_accuracy))\n",
        "    print(\"Accuracy on test data:     %0.2f\" % (test_accuracy))\n",
        "    print(confusion_matrix(ytest, clf.predict(Xtest)))\n",
        "    print(\"########################################################\")\n",
        "    return clf, Xtrain, ytrain, Xtest, ytest"
      ],
      "execution_count": 2,
      "outputs": []
    },
    {
      "cell_type": "code",
      "metadata": {
        "id": "t82X549JykEM"
      },
      "source": [
        "from matplotlib.colors import ListedColormap\n",
        "cmap_light = ListedColormap(['#FFAAAA', '#AAFFAA', '#AAAAFF'])\n",
        "cmap_bold = ListedColormap(['#FF0000', '#00FF00', '#0000FF'])\n",
        "cm = plt.cm.RdBu\n",
        "cm_bright = ListedColormap(['#FF0000', '#0000FF'])\n",
        "\n",
        "def points_plot(ax, Xtr, Xte, ytr, yte, clf, mesh=True, colorscale=cmap_light, cdiscrete=cmap_bold, alpha=0.1, psize=10, zfunc=False):\n",
        "    h = .02\n",
        "    X=np.concatenate((Xtr, Xte))\n",
        "    x_min, x_max = X[:, 0].min() - .5, X[:, 0].max() + .5\n",
        "    y_min, y_max = X[:, 1].min() - .5, X[:, 1].max() + .5\n",
        "    xx, yy = np.meshgrid(np.linspace(x_min, x_max, 100),\n",
        "                         np.linspace(y_min, y_max, 100))\n",
        "\n",
        "    #plt.figure(figsize=(10,6))\n",
        "    if mesh:\n",
        "        if zfunc:\n",
        "            p0 = clf.predict_proba(np.c_[xx.ravel(), yy.ravel()])[:, 0]\n",
        "            p1 = clf.predict_proba(np.c_[xx.ravel(), yy.ravel()])[:, 1]\n",
        "            Z=zfunc(p0, p1)\n",
        "        else:\n",
        "            Z = clf.predict(np.c_[xx.ravel(), yy.ravel()])\n",
        "        Z = Z.reshape(xx.shape)\n",
        "        plt.pcolormesh(xx, yy, Z, cmap=cmap_light, alpha=alpha, axes=ax)\n",
        "    ax.scatter(Xtr[:, 0], Xtr[:, 1], c=ytr-1, cmap=cmap_bold, s=psize, alpha=alpha,edgecolor=\"k\")\n",
        "    # and testing points\n",
        "    yact=clf.predict(Xte)\n",
        "    ax.scatter(Xte[:, 0], Xte[:, 1], c=yte-1, cmap=cmap_bold, alpha=alpha, marker=\"s\", s=psize+10)\n",
        "    ax.set_xlim(xx.min(), xx.max())\n",
        "    ax.set_ylim(yy.min(), yy.max())\n",
        "    return ax,xx,yy"
      ],
      "execution_count": 3,
      "outputs": []
    },
    {
      "cell_type": "code",
      "metadata": {
        "id": "y156W8QCykEO"
      },
      "source": [
        "def points_plot_prob(ax, Xtr, Xte, ytr, yte, clf, colorscale=cmap_light, cdiscrete=cmap_bold, ccolor=cm, psize=10, alpha=0.1):\n",
        "    ax,xx,yy = points_plot(ax, Xtr, Xte, ytr, yte, clf, mesh=False, colorscale=colorscale, cdiscrete=cdiscrete, psize=psize, alpha=alpha) \n",
        "    Z = clf.predict_proba(np.c_[xx.ravel(), yy.ravel()])[:, 1]\n",
        "    Z = Z.reshape(xx.shape)\n",
        "    plt.contourf(xx, yy, Z, cmap=ccolor, alpha=.2, axes=ax)\n",
        "    cs2 = plt.contour(xx, yy, Z, cmap=ccolor, alpha=.6, axes=ax)\n",
        "    plt.clabel(cs2, fmt = '%2.1f', colors = 'k', fontsize=14, axes=ax)\n",
        "    return ax "
      ],
      "execution_count": 4,
      "outputs": []
    },
    {
      "cell_type": "markdown",
      "metadata": {
        "id": "7hS-MZhUykEP"
      },
      "source": [
        "## The churn example\n",
        "\n",
        "This is a dataset from a telecom company, of their customers. Based on various features of these customers and their calling plans, we want to predict if a customer is likely to leave the company. This is expensive for the company, as a lost customer means lost monthly revenue!"
      ]
    },
    {
      "cell_type": "code",
      "metadata": {
        "id": "wRX3xjT2ykEQ",
        "outputId": "2e8946bb-322a-41f4-8915-2ff7074c88aa",
        "colab": {
          "base_uri": "https://localhost:8080/",
          "height": 316
        }
      },
      "source": [
        "#data set from yhathq: http://blog.yhathq.com/posts/predicting-customer-churn-with-sklearn.html\n",
        "dfchurn=pd.read_csv(\"/content/churn.csv\")\n",
        "dfchurn.head()"
      ],
      "execution_count": 5,
      "outputs": [
        {
          "output_type": "execute_result",
          "data": {
            "text/html": [
              "<div>\n",
              "<style scoped>\n",
              "    .dataframe tbody tr th:only-of-type {\n",
              "        vertical-align: middle;\n",
              "    }\n",
              "\n",
              "    .dataframe tbody tr th {\n",
              "        vertical-align: top;\n",
              "    }\n",
              "\n",
              "    .dataframe thead th {\n",
              "        text-align: right;\n",
              "    }\n",
              "</style>\n",
              "<table border=\"1\" class=\"dataframe\">\n",
              "  <thead>\n",
              "    <tr style=\"text-align: right;\">\n",
              "      <th></th>\n",
              "      <th>State</th>\n",
              "      <th>Account Length</th>\n",
              "      <th>Area Code</th>\n",
              "      <th>Phone</th>\n",
              "      <th>Int'l Plan</th>\n",
              "      <th>VMail Plan</th>\n",
              "      <th>VMail Message</th>\n",
              "      <th>Day Mins</th>\n",
              "      <th>Day Calls</th>\n",
              "      <th>Day Charge</th>\n",
              "      <th>Eve Mins</th>\n",
              "      <th>Eve Calls</th>\n",
              "      <th>Eve Charge</th>\n",
              "      <th>Night Mins</th>\n",
              "      <th>Night Calls</th>\n",
              "      <th>Night Charge</th>\n",
              "      <th>Intl Mins</th>\n",
              "      <th>Intl Calls</th>\n",
              "      <th>Intl Charge</th>\n",
              "      <th>CustServ Calls</th>\n",
              "      <th>Churn?</th>\n",
              "    </tr>\n",
              "  </thead>\n",
              "  <tbody>\n",
              "    <tr>\n",
              "      <th>0</th>\n",
              "      <td>KS</td>\n",
              "      <td>128</td>\n",
              "      <td>415</td>\n",
              "      <td>382-4657</td>\n",
              "      <td>no</td>\n",
              "      <td>yes</td>\n",
              "      <td>25</td>\n",
              "      <td>265.1</td>\n",
              "      <td>110</td>\n",
              "      <td>45.07</td>\n",
              "      <td>197.4</td>\n",
              "      <td>99</td>\n",
              "      <td>16.78</td>\n",
              "      <td>244.7</td>\n",
              "      <td>91</td>\n",
              "      <td>11.01</td>\n",
              "      <td>10.0</td>\n",
              "      <td>3</td>\n",
              "      <td>2.70</td>\n",
              "      <td>1</td>\n",
              "      <td>False.</td>\n",
              "    </tr>\n",
              "    <tr>\n",
              "      <th>1</th>\n",
              "      <td>OH</td>\n",
              "      <td>107</td>\n",
              "      <td>415</td>\n",
              "      <td>371-7191</td>\n",
              "      <td>no</td>\n",
              "      <td>yes</td>\n",
              "      <td>26</td>\n",
              "      <td>161.6</td>\n",
              "      <td>123</td>\n",
              "      <td>27.47</td>\n",
              "      <td>195.5</td>\n",
              "      <td>103</td>\n",
              "      <td>16.62</td>\n",
              "      <td>254.4</td>\n",
              "      <td>103</td>\n",
              "      <td>11.45</td>\n",
              "      <td>13.7</td>\n",
              "      <td>3</td>\n",
              "      <td>3.70</td>\n",
              "      <td>1</td>\n",
              "      <td>False.</td>\n",
              "    </tr>\n",
              "    <tr>\n",
              "      <th>2</th>\n",
              "      <td>NJ</td>\n",
              "      <td>137</td>\n",
              "      <td>415</td>\n",
              "      <td>358-1921</td>\n",
              "      <td>no</td>\n",
              "      <td>no</td>\n",
              "      <td>0</td>\n",
              "      <td>243.4</td>\n",
              "      <td>114</td>\n",
              "      <td>41.38</td>\n",
              "      <td>121.2</td>\n",
              "      <td>110</td>\n",
              "      <td>10.30</td>\n",
              "      <td>162.6</td>\n",
              "      <td>104</td>\n",
              "      <td>7.32</td>\n",
              "      <td>12.2</td>\n",
              "      <td>5</td>\n",
              "      <td>3.29</td>\n",
              "      <td>0</td>\n",
              "      <td>False.</td>\n",
              "    </tr>\n",
              "    <tr>\n",
              "      <th>3</th>\n",
              "      <td>OH</td>\n",
              "      <td>84</td>\n",
              "      <td>408</td>\n",
              "      <td>375-9999</td>\n",
              "      <td>yes</td>\n",
              "      <td>no</td>\n",
              "      <td>0</td>\n",
              "      <td>299.4</td>\n",
              "      <td>71</td>\n",
              "      <td>50.90</td>\n",
              "      <td>61.9</td>\n",
              "      <td>88</td>\n",
              "      <td>5.26</td>\n",
              "      <td>196.9</td>\n",
              "      <td>89</td>\n",
              "      <td>8.86</td>\n",
              "      <td>6.6</td>\n",
              "      <td>7</td>\n",
              "      <td>1.78</td>\n",
              "      <td>2</td>\n",
              "      <td>False.</td>\n",
              "    </tr>\n",
              "    <tr>\n",
              "      <th>4</th>\n",
              "      <td>OK</td>\n",
              "      <td>75</td>\n",
              "      <td>415</td>\n",
              "      <td>330-6626</td>\n",
              "      <td>yes</td>\n",
              "      <td>no</td>\n",
              "      <td>0</td>\n",
              "      <td>166.7</td>\n",
              "      <td>113</td>\n",
              "      <td>28.34</td>\n",
              "      <td>148.3</td>\n",
              "      <td>122</td>\n",
              "      <td>12.61</td>\n",
              "      <td>186.9</td>\n",
              "      <td>121</td>\n",
              "      <td>8.41</td>\n",
              "      <td>10.1</td>\n",
              "      <td>3</td>\n",
              "      <td>2.73</td>\n",
              "      <td>3</td>\n",
              "      <td>False.</td>\n",
              "    </tr>\n",
              "  </tbody>\n",
              "</table>\n",
              "</div>"
            ],
            "text/plain": [
              "  State  Account Length  Area Code  ... Intl Charge CustServ Calls  Churn?\n",
              "0    KS             128        415  ...        2.70              1  False.\n",
              "1    OH             107        415  ...        3.70              1  False.\n",
              "2    NJ             137        415  ...        3.29              0  False.\n",
              "3    OH              84        408  ...        1.78              2  False.\n",
              "4    OK              75        415  ...        2.73              3  False.\n",
              "\n",
              "[5 rows x 21 columns]"
            ]
          },
          "metadata": {
            "tags": []
          },
          "execution_count": 5
        }
      ]
    },
    {
      "cell_type": "markdown",
      "metadata": {
        "id": "ISjENQulykES"
      },
      "source": [
        "Lets write some code to feature select and clean our data first, of-course."
      ]
    },
    {
      "cell_type": "code",
      "metadata": {
        "id": "A4pxEcpdykET"
      },
      "source": [
        "dfchurn[\"Int'l Plan\"] = dfchurn[\"Int'l Plan\"]=='yes'\n",
        "dfchurn[\"VMail Plan\"] = dfchurn[\"VMail Plan\"]=='yes'"
      ],
      "execution_count": 6,
      "outputs": []
    },
    {
      "cell_type": "code",
      "metadata": {
        "id": "893OR-ccykEU"
      },
      "source": [
        "colswewant_cont=[ u'Account Length', u'VMail Message', u'Day Mins', u'Day Calls', u'Day Charge', u'Eve Mins', u'Eve Calls', u'Eve Charge', u'Night Mins', u'Night Calls', u'Night Charge', u'Intl Mins', u'Intl Calls', u'Intl Charge', u'CustServ Calls']\n",
        "colswewant_cat=[u\"Int'l Plan\", u'VMail Plan']"
      ],
      "execution_count": 7,
      "outputs": []
    },
    {
      "cell_type": "markdown",
      "metadata": {
        "id": "BjTEb8FhykEU"
      },
      "source": [
        "## Asymmetry"
      ]
    },
    {
      "cell_type": "markdown",
      "metadata": {
        "id": "yGfdRehZykEV"
      },
      "source": [
        "First notice that our data set is very highly asymmetric, with positives, or people who churned, only making up 14-15% of the samples."
      ]
    },
    {
      "cell_type": "code",
      "metadata": {
        "id": "OJMwPJ2nykEV",
        "outputId": "4d62c1be-e078-451c-ac75-5e5566acf737",
        "colab": {
          "base_uri": "https://localhost:8080/"
        }
      },
      "source": [
        "ychurn = np.where(dfchurn['Churn?'] == 'True.',1,0)\n",
        "100*ychurn.mean()"
      ],
      "execution_count": 8,
      "outputs": [
        {
          "output_type": "execute_result",
          "data": {
            "text/plain": [
              "14.491449144914492"
            ]
          },
          "metadata": {
            "tags": []
          },
          "execution_count": 8
        }
      ]
    },
    {
      "cell_type": "markdown",
      "metadata": {
        "id": "Bc0rX63RykEW"
      },
      "source": [
        "This means that a classifier which predicts that EVERY customer is a negative (does not churn) has an accuracy rate of 85-86%. \n",
        "\n",
        "But is accuracy the correct metric?"
      ]
    },
    {
      "cell_type": "markdown",
      "metadata": {
        "id": "NTM2Bhj_ykEW"
      },
      "source": [
        "## Remember the Confusion matrix? We reproduce it here for convenience"
      ]
    },
    {
      "cell_type": "markdown",
      "metadata": {
        "id": "bYVguea-ykEX"
      },
      "source": [
        "- the samples that are +ive and the classifier predicts as +ive are called True Positives (TP)\n",
        "- the samples that are -ive and the classifier predicts (wrongly) as +ive are called False Positives (FP)\n",
        "- the samples that are -ive and the classifier predicts as -ive are called True Negatives (TN)\n",
        "- the samples that are +ive and the classifier predicts as -ive are called False Negatives (FN)\n",
        "\n",
        "A classifier produces a confusion matrix which looks like this:\n",
        "\n",
        "![hwimages](https://github.com/bitanb1999/Churn/blob/main/images/confusionmatrix.png?raw=1)\n",
        "\n",
        "\n",
        "IMPORTANT NOTE: In sklearn, to obtain the confusion matrix in the form above, always have the observed `y` first, i.e.: use as `confusion_matrix(y_true, y_pred)`\n",
        "\n",
        "To make a ROC curve you plot the True Positive Rate,\n",
        "\n",
        "$$TPR=\\frac{TP}{OP}$$\n",
        "against the False Positive Rate,\n",
        "\n",
        "$$FPR=\\frac{FP}{ON}$$\n",
        "as you go through this process of going down the list of samples. ROC curves are useful because they calculate one classifier per threshold and show you where you are in TPR/FPR space without making any assumptions about the utility matrix or which threshold is appropriate.\n",
        "\n",
        "Notice that the ROC curve has a very interesting property: if you look at the confusion matrix above, TPR is only calculated from the observed \"1\" row while FPR is calculated from the observed '0' row. This means that the ROC curve is independent of the class balance/imbalance on the test set, and thus works for all ratios of positive to negative samples. \n",
        "\n",
        "\n",
        "Consider two classifiers, A and B, as in the image below. Suppose they were trained on a balanced set. Let A make its mistakes only through false positives: non-churners(n) predicted to churn(Y), while B makes its mistake only through false negatives, churners(p), predicted not to churn(N). Now consider what this looks like on an unbalanced set, where the ps (churners) are much less than the ns (non-churners). It would seem that B makes far fewer misclassifications based on accuracy than A, and would thus be a better classifier."
      ]
    },
    {
      "cell_type": "markdown",
      "metadata": {
        "id": "vjuy1C8HykEe"
      },
      "source": [
        "![m:abmodeldiag](https://github.com/bitanb1999/Churn/blob/main/images/abmodeldiag.png?raw=1)\n",
        "\n",
        "(from data science for business)\n",
        "\n",
        "However, is B reaslly the best classifier for us? False negatives are people who churn, but we predicted them not to churn.These are very costly for us. So for us. classifier A might be better, even though, on the unbalanced set, it is way less accurate!"
      ]
    },
    {
      "cell_type": "markdown",
      "metadata": {
        "id": "jrE0VeCmykEk"
      },
      "source": [
        "## Classifiers should be about the Business End: keeping costs down"
      ]
    },
    {
      "cell_type": "markdown",
      "metadata": {
        "id": "jNGyCC55ykEl"
      },
      "source": [
        "#### Establishing Baseline Classifiers via profit or loss."
      ]
    },
    {
      "cell_type": "markdown",
      "metadata": {
        "id": "LB3mxKE0ykEl"
      },
      "source": [
        "Whenever you are comparing classifiers you should always establish a baseline, one way or the other.  In our churn dataset there are two obvious baselines: assume every customer wont churn, and assume all customers will churn.\n",
        "\n",
        "The former baseline, will on our dataset, straight away give you a 85.5% accuracy. If you are planning on using accuracy, any classifier you write ought to beat this. The other baseline, from an accuracy perspective is less interesting: it would only have a 14.5% correct rate.\n",
        "\n",
        "But as we have seen, on such asymmetric data sets, accuracy is just not a good metric. So what should we use?\n",
        "\n",
        "**A metric ought to hew to the business function that the classifier is intended for**.\n",
        "\n",
        "In our case, we want to minimize the cost/maximize the profit for the telecom.\n",
        "\n",
        "But to do this we need to understand the business situation. To do this, we write a **utility**, or, equivalently, **cost** matrix associated with the 4 scenarios that the confusion matrix talks about. \n",
        "\n",
        "![cost matrix](https://github.com/bitanb1999/Churn/blob/main/images/costmatrix.png?raw=1)\n",
        "\n",
        "Remember that +ives or 1s are churners, and -ives or 0s are the ones that dont churn. \n",
        "\n",
        "Lets assume we make an offer with an administrative cost of 3 dollars and an offer cost of 100 dollars, an incentive for the customer to stay with us. If a customer leaves us, we lose the customer lifetime value, which is some kind of measure of the lost profit from that customer. Lets assume this is the average number of months a customer stays with the telecom times the net revenue from the customer per month. We'll assume 3 years and 30 dollars/month margin per user lost, for roughly a dollars 1000 loss."
      ]
    },
    {
      "cell_type": "code",
      "metadata": {
        "id": "Ie43_A-oykEm"
      },
      "source": [
        "admin_cost=3\n",
        "offer_cost=100\n",
        "clv=1000  \n",
        "#customer lifetime value"
      ],
      "execution_count": 9,
      "outputs": []
    },
    {
      "cell_type": "markdown",
      "metadata": {
        "id": "jVYarhMNykEn"
      },
      "source": [
        "- TN=people we predicted not to churn who wont churn. We associate no cost with this as they continue being our customers\n",
        "- FP=people we predict to churn. Who wont. Lets associate a `admin_cost+offer_cost` cost per customer with this as we will spend some money on getting them not to churn, but we will lose this money.\n",
        "- FN=people we predict wont churn. And we send them nothing. But they will. This is the big loss, the `clv`\n",
        "- TP= people who we predict will churn. And they will. These are the people we can do something with. So we make them an offer. Say a fraction f accept it. Our cost is\n",
        "\n",
        "`f * (offer_cost+admin_cost) + (1-f)*(clv+admin_cost)`\n",
        "\n",
        "This model can definitely be made more complex.\n",
        "\n",
        "Lets assume a conversion fraction of 0.5"
      ]
    },
    {
      "cell_type": "code",
      "metadata": {
        "id": "EhM_MtylykEn"
      },
      "source": [
        "conv = 0.5\n",
        "tnc = 0.\n",
        "fpc = admin_cost+offer_cost\n",
        "fnc = clv\n",
        "tpc = conv*(offer_cost+admin_cost) + (1. - conv)*(clv+admin_cost)"
      ],
      "execution_count": 10,
      "outputs": []
    },
    {
      "cell_type": "code",
      "metadata": {
        "id": "KvST58m2ykEo",
        "outputId": "01204550-5625-485c-ce62-a6ae516140d6",
        "colab": {
          "base_uri": "https://localhost:8080/"
        }
      },
      "source": [
        "cost=np.array([[tnc,fpc],[fnc, tpc]])\n",
        "print(cost)"
      ],
      "execution_count": 11,
      "outputs": [
        {
          "output_type": "stream",
          "text": [
            "[[   0.  103.]\n",
            " [1000.  553.]]\n"
          ],
          "name": "stdout"
        }
      ]
    },
    {
      "cell_type": "markdown",
      "metadata": {
        "id": "W3Be8sleykEo"
      },
      "source": [
        "We can compute the average cost(profit) per person using the following formula, which calculates the \"expected value\" of the per-customer loss/cost(profit):\n",
        "\n",
        "\\begin{eqnarray}\n",
        "Cost &=& c(1P,1A) \\times p(1P,1A) + c(1P,0A) \\times p(1P,0A) + c(0P,1A) \\times p(0P,1A) + c(0P,0A) \\times p(0P,0A) \\\\\n",
        "&=& \\frac{TP \\times c(1P,1A) + FP \\times c(1P,0A) + FN \\times c(0P,1A) + TN \\times c(0P,0A)}{N}\n",
        "\\end{eqnarray}\n",
        "\n",
        "where N is the total size of the test set, 1P is predictions for class 1, or positives, 0A is actual values of the negative class in the test set. The first formula above just weighs the cost of a combination of observed and predicted with the out-of-sample probability of the combination occurring. The probabilities are \"estimated\" by the corresponding confusion matrix on the test set. (We'll provide a proof of this later in the course for the mathematically inclined, or just come bug Rahul at office hour if you cant wait!)\n",
        "\n",
        "The cost can thus be found by multiplying the cost matrix by the confusion matrix elementwise, and dividing by the sum of the elements in the confusion matrix, or the test set size.\n",
        "\n",
        "We implement this process of finding the average cost per person in the `average_cost` function below:"
      ]
    },
    {
      "cell_type": "code",
      "metadata": {
        "id": "fmQnRyLGykEp"
      },
      "source": [
        "def average_cost(y, ypred, cost):\n",
        "    c=confusion_matrix(y,ypred)\n",
        "    score=np.sum(c*cost)/np.sum(c)\n",
        "    return score"
      ],
      "execution_count": 12,
      "outputs": []
    },
    {
      "cell_type": "markdown",
      "metadata": {
        "id": "OOPoR83RykEr"
      },
      "source": [
        "#### No customer churns and we send nothing\n",
        "\n",
        "We havent made any calculations yet! Lets fix that omission and create our training and test sets."
      ]
    },
    {
      "cell_type": "code",
      "metadata": {
        "id": "dkxBZ75GykEs",
        "outputId": "a7736304-ad9f-47ea-8ecc-0e825fdd16d5",
        "colab": {
          "base_uri": "https://localhost:8080/"
        }
      },
      "source": [
        "churntrain, churntest = train_test_split(range(dfchurn.shape[0]), train_size=0.6, random_state=1991)\n",
        "churnmask=np.ones(dfchurn.shape[0], dtype='int')\n",
        "churnmask[churntrain]=1\n",
        "churnmask[churntest]=0\n",
        "churnmask = (churnmask==1)\n",
        "churnmask"
      ],
      "execution_count": 13,
      "outputs": [
        {
          "output_type": "execute_result",
          "data": {
            "text/plain": [
              "array([False, False, False, ..., False,  True, False])"
            ]
          },
          "metadata": {
            "tags": []
          },
          "execution_count": 13
        }
      ]
    },
    {
      "cell_type": "code",
      "metadata": {
        "id": "oc5v-Y3IykEs"
      },
      "source": [
        "testchurners=dfchurn['Churn?'][~churnmask].values=='True.'"
      ],
      "execution_count": 14,
      "outputs": []
    },
    {
      "cell_type": "code",
      "metadata": {
        "id": "2iXQeLx-ykEt",
        "outputId": "bcb5ef0c-10fd-4569-fa43-62eb25e8deee",
        "colab": {
          "base_uri": "https://localhost:8080/"
        }
      },
      "source": [
        "testsize = dfchurn[~churnmask].shape[0]\n",
        "ypred_dste = np.zeros(testsize, dtype=\"int\")\n",
        "print(confusion_matrix(testchurners, ypred_dste))"
      ],
      "execution_count": 16,
      "outputs": [
        {
          "output_type": "stream",
          "text": [
            "[[1139    0]\n",
            " [ 195    0]]\n"
          ],
          "name": "stdout"
        }
      ]
    },
    {
      "cell_type": "code",
      "metadata": {
        "id": "37WhJj5YykEu",
        "outputId": "c148fe31-1476-4ee8-df17-94ddec802521",
        "colab": {
          "base_uri": "https://localhost:8080/"
        }
      },
      "source": [
        "dsteval=average_cost(testchurners, ypred_dste, cost)\n",
        "dsteval"
      ],
      "execution_count": 17,
      "outputs": [
        {
          "output_type": "execute_result",
          "data": {
            "text/plain": [
              "146.1769115442279"
            ]
          },
          "metadata": {
            "tags": []
          },
          "execution_count": 17
        }
      ]
    },
    {
      "cell_type": "markdown",
      "metadata": {
        "id": "eu7Airy_ykEu"
      },
      "source": [
        "Not doing anything costs us 145 per customer."
      ]
    },
    {
      "cell_type": "markdown",
      "metadata": {
        "id": "MozDLDLvykEv"
      },
      "source": [
        "#### All customers churn, we send everyone"
      ]
    },
    {
      "cell_type": "code",
      "metadata": {
        "id": "w7zL4DiFykEv",
        "outputId": "be90b457-b2a5-4763-f1c7-5a8b6d4d5532",
        "colab": {
          "base_uri": "https://localhost:8080/"
        }
      },
      "source": [
        "ypred_ste = np.ones(testsize, dtype=\"int\")\n",
        "print(confusion_matrix(testchurners, ypred_ste))"
      ],
      "execution_count": 18,
      "outputs": [
        {
          "output_type": "stream",
          "text": [
            "[[   0 1139]\n",
            " [   0  195]]\n"
          ],
          "name": "stdout"
        }
      ]
    },
    {
      "cell_type": "code",
      "metadata": {
        "id": "bGsXLZp3ykEw",
        "outputId": "8d99e2d5-8c37-475f-b6b2-b0ddc19adefa",
        "colab": {
          "base_uri": "https://localhost:8080/"
        }
      },
      "source": [
        "steval=average_cost(testchurners, ypred_ste, cost)\n",
        "steval"
      ],
      "execution_count": 19,
      "outputs": [
        {
          "output_type": "execute_result",
          "data": {
            "text/plain": [
              "168.77961019490255"
            ]
          },
          "metadata": {
            "tags": []
          },
          "execution_count": 19
        }
      ]
    },
    {
      "cell_type": "markdown",
      "metadata": {
        "id": "3D__8beBykEw"
      },
      "source": [
        "Make offers to everyone costs us even more, not surprisingly. The first one is the one to beat!"
      ]
    },
    {
      "cell_type": "markdown",
      "metadata": {
        "id": "MmcYKSKYykEx"
      },
      "source": [
        "## Naive Bayes Classifier\n",
        "\n",
        "So lets try a classifier. Here we try one known as Gaussian Naive Bayes. We'll just use the default parameters, since the actual details are not of importance to us."
      ]
    },
    {
      "cell_type": "code",
      "metadata": {
        "id": "FKO8r3D3ykEx",
        "outputId": "e9bc8076-76ac-49f0-efd2-ea6db26f3133",
        "colab": {
          "base_uri": "https://localhost:8080/"
        }
      },
      "source": [
        "from sklearn.naive_bayes import GaussianNB\n",
        "clfgnb = GaussianNB()\n",
        "clfgnb, Xtrain, ytrain, Xtest, ytest=do_classify(clfgnb, None, dfchurn, colswewant_cont+colswewant_cat, 'Churn?', \"True.\", mask=churnmask)"
      ],
      "execution_count": 20,
      "outputs": [
        {
          "output_type": "stream",
          "text": [
            "############# based on standard predict ################\n",
            "Accuracy on training data: 0.86\n",
            "Accuracy on test data:     0.87\n",
            "[[1050   89]\n",
            " [  87  108]]\n",
            "########################################################\n"
          ],
          "name": "stdout"
        }
      ]
    },
    {
      "cell_type": "code",
      "metadata": {
        "id": "6caIqB1RykEx",
        "outputId": "d9ff4eb5-252c-48a8-c6f1-cf786fa018b6",
        "colab": {
          "base_uri": "https://localhost:8080/"
        }
      },
      "source": [
        "confusion_matrix(ytest, clfgnb.predict(Xtest))"
      ],
      "execution_count": 21,
      "outputs": [
        {
          "output_type": "execute_result",
          "data": {
            "text/plain": [
              "array([[1050,   89],\n",
              "       [  87,  108]])"
            ]
          },
          "metadata": {
            "tags": []
          },
          "execution_count": 21
        }
      ]
    },
    {
      "cell_type": "code",
      "metadata": {
        "id": "UYeM8M-LykEy",
        "outputId": "4ef45746-ca79-4405-eba8-90dcea93c0e2",
        "colab": {
          "base_uri": "https://localhost:8080/"
        }
      },
      "source": [
        "average_cost(ytest, clfgnb.predict(Xtest), cost)"
      ],
      "execution_count": 22,
      "outputs": [
        {
          "output_type": "execute_result",
          "data": {
            "text/plain": [
              "116.85982008995502"
            ]
          },
          "metadata": {
            "tags": []
          },
          "execution_count": 22
        }
      ]
    },
    {
      "cell_type": "markdown",
      "metadata": {
        "id": "_R01pAT1ykEy"
      },
      "source": [
        "Ok! We did better! But is this the true value of our cost? To answer this question, we need to ask a question: what exactly is `clf.predict` doing?\n",
        "\n",
        "\n",
        "Also, models like  SVM does give us a measure of how far we are from the \"margin\" though, and this is an ordered set of distances, just as the probabilities in a statistical classifier are. This ordering on the distance is just like an ordering on the probabilities: a sample far on the positive side from the line is an almost very definite 1, just like a sample with a 0.99 probability of being a 1 is an almost very definite 1.\n",
        "\n",
        "For both these reasons we turn to ROC curves."
      ]
    },
    {
      "cell_type": "markdown",
      "metadata": {
        "id": "pMLw9iHYykEz"
      },
      "source": [
        "## Changing the Prediction threshold, and the ROC Curve"
      ]
    },
    {
      "cell_type": "markdown",
      "metadata": {
        "id": "-bNRZHUyykEz"
      },
      "source": [
        "Our dataset is a very lopsided data set with 86% of samples being negative. We now know that in such a case, accuracy is not a very good measure of a classifier.\n",
        "\n",
        "We have also noticed that, as is often the case in situations in which one class dominates the other, the costs of one kind of misclassification: false negatives are differently expensive than false positives. We saw above that FN are more costly in our case than FP. \n",
        "\n",
        "\n",
        "In the case of such asymmetric costs, the `sklearn` API function `predict` is useless, as it assumes a threshold probability of having a +ive sample to be 0.5; that is, if a sample has a greater than 0.5 chance of being a 1, assume it is so. Clearly, when FN are more expensive than FP, you want to lower this threshold: you are ok with falsely classifying -ive examples as +ive. We play with this below by chosing a threshold `t` in the function `repredict` which chooses a different threshold than 0.5 to make a classification.\n",
        "\n",
        "You can think about this very starkly from the perspective of the cancer doctor. Do you really want to be setting a threshold of 0.5 probability to predict if a patient has cancer or not? The false negative problem: ie the chance you predict someone dosent have cancer who has cancer is much higher for such a threshold. You could kill someone by telling them not to get a biopsy. Why not play it safe and assume a much lower threshold: for eg, if the probability of 1(cancer) is greater than 0.05, we'll call it a 1.\n",
        "\n",
        "One caveat: we cannot repredict for the linear SVM model, as the SVM is whats called a \"discriminative\" classifier: it directly gives us a decision function, with no probabilistic explanation and no probabilities.\n"
      ]
    },
    {
      "cell_type": "code",
      "metadata": {
        "id": "98_Aar93ykEz"
      },
      "source": [
        "def repredict(est,t, xtest):\n",
        "    probs=est.predict_proba(xtest)\n",
        "    p0 = probs[:,0]\n",
        "    p1 = probs[:,1]\n",
        "    ypred = (p1 >= t)*1\n",
        "    return ypred"
      ],
      "execution_count": 23,
      "outputs": []
    },
    {
      "cell_type": "code",
      "metadata": {
        "id": "55tg0e49ykE0",
        "outputId": "8cd1658b-15bc-44f8-f969-02ffdf858846",
        "colab": {
          "base_uri": "https://localhost:8080/"
        }
      },
      "source": [
        "average_cost(ytest, repredict(clfgnb, 0.3, Xtest), cost)"
      ],
      "execution_count": 25,
      "outputs": [
        {
          "output_type": "execute_result",
          "data": {
            "text/plain": [
              "109.2271364317841"
            ]
          },
          "metadata": {
            "tags": []
          },
          "execution_count": 25
        }
      ]
    },
    {
      "cell_type": "code",
      "metadata": {
        "id": "qA3g6rcwykE0",
        "outputId": "c6e116cf-522b-4ba8-afdc-858f4c7d2ddd",
        "colab": {
          "base_uri": "https://localhost:8080/",
          "height": 349
        }
      },
      "source": [
        "plt.hist(clfgnb.predict_proba(Xtest)[:,1])"
      ],
      "execution_count": 26,
      "outputs": [
        {
          "output_type": "execute_result",
          "data": {
            "text/plain": [
              "(array([893., 142.,  46.,  27.,  29.,  34.,  20.,  18.,  29.,  96.]),\n",
              " array([1.61087304e-04, 1.00144971e-01, 2.00128854e-01, 3.00112737e-01,\n",
              "        4.00096620e-01, 5.00080503e-01, 6.00064387e-01, 7.00048270e-01,\n",
              "        8.00032153e-01, 9.00016036e-01, 9.99999920e-01]),\n",
              " <a list of 10 Patch objects>)"
            ]
          },
          "metadata": {
            "tags": []
          },
          "execution_count": 26
        },
        {
          "output_type": "display_data",
          "data": {
            "image/png": "[encoded data removed]",
            "text/plain": [
              "<Figure size 432x288 with 1 Axes>"
            ]
          },
          "metadata": {
            "tags": [],
            "needs_background": "light"
          }
        }
      ]
    },
    {
      "cell_type": "markdown",
      "metadata": {
        "id": "twX_jLUxykE1"
      },
      "source": [
        "Aha! At a 0.3 threshold we save more money!\n",
        "\n",
        "We see that in this situation, where we have asymmetric costs, we do need to change the threshold at which we make our positive and negative predictions. We need to change the threshold so that we much dislike false negatives (same in the cancer case). Thus we must accept many more false positives by setting such a low threshold.\n",
        "\n",
        "For otherwise, we let too many people slip through our hands who would have stayed with our telecom company given an incentive. But how do we pick this threshold?"
      ]
    },
    {
      "cell_type": "markdown",
      "metadata": {
        "id": "VHpBJa9oykE1"
      },
      "source": [
        "### The ROC Curve"
      ]
    },
    {
      "cell_type": "markdown",
      "metadata": {
        "id": "DBEFY3whykE1"
      },
      "source": [
        "ROC curves are actually a set of classifiers, in which we move the threshold for classifying a sample as positive from 0 to 1. (In the standard scenario, where we use classifier accuracy, this threshold is implicitly set at 0.5).\n",
        "\n",
        "We talked more about how to create a ROC curve in the accompanying lab to this one, so here we shall just repeat the ROC curve making code from there."
      ]
    },
    {
      "cell_type": "code",
      "metadata": {
        "id": "-LOZzjX8ykE2"
      },
      "source": [
        "from sklearn.metrics import roc_curve, auc"
      ],
      "execution_count": 27,
      "outputs": []
    },
    {
      "cell_type": "code",
      "metadata": {
        "id": "BqWsZU7XykE2"
      },
      "source": [
        "def make_roc(name, clf, ytest, xtest, ax=None, labe=5,  proba=True, skip=0, initial = False):\n",
        "    if not ax:\n",
        "        ax=plt.gca()\n",
        "    if proba:\n",
        "        fpr, tpr, thresholds=roc_curve(ytest, clf.predict_proba(xtest)[:,1])\n",
        "    else:\n",
        "        fpr, tpr, thresholds=roc_curve(ytest, clf.decision_function(xtest))\n",
        "    roc_auc = auc(fpr, tpr)\n",
        "    if skip:\n",
        "        l=fpr.shape[0]\n",
        "        ax.plot(fpr[0:l:skip], tpr[0:l:skip], '.-', lw=2, alpha=0.4, label='ROC curve for %s (area = %0.2f)' % (name, roc_auc))\n",
        "    else:\n",
        "        ax.plot(fpr, tpr, '.-', lw=2, alpha=0.4, label='ROC curve for %s (area = %0.2f)' % (name, roc_auc))\n",
        "    label_kwargs = {}\n",
        "    label_kwargs['bbox'] = dict(\n",
        "        boxstyle='round,pad=0.3', alpha=0.2,\n",
        "    )\n",
        "    for k in range(0, fpr.shape[0],labe):\n",
        "        #from https://gist.github.com/podshumok/c1d1c9394335d86255b8\n",
        "        threshold = str(np.round(thresholds[k], 2))\n",
        "        ax.annotate(threshold, (fpr[k], tpr[k]), **label_kwargs)\n",
        "    if initial:\n",
        "        ax.plot([0, 1], [0, 1], 'k--')\n",
        "        ax.set_xlim([0.0, 1.0])\n",
        "        ax.set_ylim([0.0, 1.05])\n",
        "        ax.set_xlabel('False Positive Rate')\n",
        "        ax.set_ylabel('True Positive Rate')\n",
        "        ax.set_title('ROC')\n",
        "    ax.legend(loc=\"lower right\")\n",
        "    return ax"
      ],
      "execution_count": 28,
      "outputs": []
    },
    {
      "cell_type": "code",
      "metadata": {
        "id": "sdVquGViykE2",
        "outputId": "b2fe8028-8d11-4aff-cc56-593607f19013",
        "colab": {
          "base_uri": "https://localhost:8080/",
          "height": 513
        }
      },
      "source": [
        "fig, ax = plt.subplots(figsize=(12,8))\n",
        "make_roc(\"gnb\",clfgnb, ytest, Xtest, ax=ax, labe=20, initial=True);"
      ],
      "execution_count": 29,
      "outputs": [
        {
          "output_type": "display_data",
          "data": {
            "image/png": "[encoded data removed]",
            "text/plain": [
              "<Figure size 864x576 with 1 Axes>"
            ]
          },
          "metadata": {
            "tags": [],
            "needs_background": "light"
          }
        }
      ]
    },
    {
      "cell_type": "markdown",
      "metadata": {
        "id": "mG7MggboykE3"
      },
      "source": [
        "OK. Now that we have a ROC curve that shows us different thresholds, we need to figure how to pick the appropriate threshold from the ROC curve. But first, let us try another classifier."
      ]
    },
    {
      "cell_type": "markdown",
      "metadata": {
        "id": "uY6tJj0RykE4"
      },
      "source": [
        "## Classifier Comparison"
      ]
    },
    {
      "cell_type": "markdown",
      "metadata": {
        "id": "z1db3rYXykE4"
      },
      "source": [
        "### Decision Trees"
      ]
    },
    {
      "cell_type": "code",
      "metadata": {
        "id": "djQ8ykvsykE4"
      },
      "source": [
        "from sklearn.tree import DecisionTreeClassifier"
      ],
      "execution_count": 30,
      "outputs": []
    },
    {
      "cell_type": "code",
      "metadata": {
        "id": "3FzEbSdnykE5"
      },
      "source": [
        "reuse_split=dict(Xtrain=Xtrain, Xtest=Xtest, ytrain=ytrain, ytest=ytest)"
      ],
      "execution_count": 31,
      "outputs": []
    },
    {
      "cell_type": "markdown",
      "metadata": {
        "id": "jIrhVkh1ykE6"
      },
      "source": [
        "We train a simple decision tree classifier."
      ]
    },
    {
      "cell_type": "code",
      "metadata": {
        "id": "SbkL6n_gykE6",
        "outputId": "9321c697-d149-4f94-8a06-e3b3b42a32d4",
        "colab": {
          "base_uri": "https://localhost:8080/"
        }
      },
      "source": [
        "clfdt=DecisionTreeClassifier()\n",
        "clfdt, Xtrain, ytrain, Xtest, ytest  = do_classify(clfdt, \n",
        "    {\"max_depth\": range(1,10,1), \"min_samples_leaf\": range(1, 20, 1)},\n",
        "    dfchurn, colswewant_cont+colswewant_cat, 'Churn?', \"True.\", \n",
        "    reuse_split=reuse_split)"
      ],
      "execution_count": 32,
      "outputs": [
        {
          "output_type": "stream",
          "text": [
            "using reuse split\n",
            "BEST {'max_depth': 6, 'min_samples_leaf': 4} 0.93596992481203\n",
            "############# based on standard predict ################\n",
            "Accuracy on training data: 0.96\n",
            "Accuracy on test data:     0.95\n",
            "[[1124   15]\n",
            " [  54  141]]\n",
            "########################################################\n"
          ],
          "name": "stdout"
        }
      ]
    },
    {
      "cell_type": "code",
      "metadata": {
        "id": "ygM4dnnoykE8",
        "outputId": "e530aa41-51a1-418b-d66f-f9ccb3e1be01",
        "colab": {
          "base_uri": "https://localhost:8080/"
        }
      },
      "source": [
        "confusion_matrix(ytest,clfdt.predict(Xtest))"
      ],
      "execution_count": 33,
      "outputs": [
        {
          "output_type": "execute_result",
          "data": {
            "text/plain": [
              "array([[1124,   15],\n",
              "       [  54,  141]])"
            ]
          },
          "metadata": {
            "tags": []
          },
          "execution_count": 33
        }
      ]
    },
    {
      "cell_type": "code",
      "metadata": {
        "id": "Ic-qfOANykE9"
      },
      "source": [
        "from sklearn.ensemble import RandomForestClassifier"
      ],
      "execution_count": 34,
      "outputs": []
    },
    {
      "cell_type": "code",
      "metadata": {
        "id": "G76xm8c-ykE9",
        "outputId": "775b5d3a-c196-4597-e07c-44bc6a528682",
        "colab": {
          "base_uri": "https://localhost:8080/"
        }
      },
      "source": [
        "clfdt2=DecisionTreeClassifier()\n",
        "clfdt2, Xtrain, ytrain, Xtest, ytest  = do_classify(clfdt2, \n",
        "    {\"max_depth\": range(1,10,1), \"min_samples_leaf\": range(1, 20, 1)},\n",
        "    dfchurn, colswewant_cont+colswewant_cat, 'Churn?', \"True.\", \n",
        "    reuse_split=reuse_split,\n",
        "    score_func=\"roc_auc\")"
      ],
      "execution_count": 36,
      "outputs": [
        {
          "output_type": "stream",
          "text": [
            "using reuse split\n",
            "SCORE FUNC roc_auc\n",
            "BEST {'max_depth': 7, 'min_samples_leaf': 17} 0.8773254507224187\n",
            "############# based on standard predict ################\n",
            "Accuracy on training data: 0.94\n",
            "Accuracy on test data:     0.94\n",
            "[[1116   23]\n",
            " [  51  144]]\n",
            "########################################################\n"
          ],
          "name": "stdout"
        }
      ]
    },
    {
      "cell_type": "markdown",
      "metadata": {
        "id": "RByrERPbykE-"
      },
      "source": [
        "### Compare!"
      ]
    },
    {
      "cell_type": "code",
      "metadata": {
        "id": "KXcEFhxDykE-",
        "outputId": "69140df9-457d-4739-92fa-5a897a030e02",
        "colab": {
          "base_uri": "https://localhost:8080/",
          "height": 638
        }
      },
      "source": [
        "fig, ax = plt.subplots(figsize=(15,10))\n",
        "make_roc(\"gnb\",clfgnb, ytest, Xtest, ax=ax, labe=50, initial=True);\n",
        "make_roc(\"dt\",clfdt, ytest, Xtest, ax, labe=2)\n",
        "make_roc(\"dt/auc\",clfdt2, ytest, Xtest, ax, labe=50)"
      ],
      "execution_count": 38,
      "outputs": [
        {
          "output_type": "execute_result",
          "data": {
            "text/plain": [
              "<matplotlib.axes._subplots.AxesSubplot at 0x7f445d5f8810>"
            ]
          },
          "metadata": {
            "tags": []
          },
          "execution_count": 38
        },
        {
          "output_type": "display_data",
          "data": {
            "image/png": "[encoded data removed]",
            "text/plain": [
              "<Figure size 1080x720 with 1 Axes>"
            ]
          },
          "metadata": {
            "tags": [],
            "needs_background": "light"
          }
        }
      ]
    },
    {
      "cell_type": "markdown",
      "metadata": {
        "id": "Z0_iZIZNykE-"
      },
      "source": [
        "How do we read which classifier is better from a ROC curve. The usual advice is to go to the North-West corner of a ROC curve, as that is closest to TPE=1, FPR=0. But thats not our setup here..we have this asymmetric data set. The other advice is to look at the classifier with the highest AUC. But as we can see in the image below, captured from a different decision tree, you can have a situation in which the 'the AUC is the same, but the classifiers seem to have very different performances in different parts of the graph\n",
        "\n",
        "![rocs](https://github.com/bitanb1999/Churn/blob/main/images/churnrocs.png?raw=1)\n",
        "\n",
        "And then there is the question of figuring what threshold to choose as well. To answer both of these, we are going to have to turn back to cost"
      ]
    },
    {
      "cell_type": "markdown",
      "metadata": {
        "id": "YjWtz7bcykE_"
      },
      "source": [
        "## Reprediction again: Now with Cost or Risk"
      ]
    },
    {
      "cell_type": "markdown",
      "metadata": {
        "id": "gPi029WwykE_"
      },
      "source": [
        "You can use the utility or cost matrix to provide a  threshold to pick for our classifier. \n",
        "\n",
        "The key idea is that we want to minimize cost on our test set, so for each sample, simply pick the class which does that. \n",
        "\n",
        "To understand this, lets follow through with a bit of math:\n",
        "\n",
        "\n",
        "We simply weigh each combinations loss by the probability that that combination can happen:\n",
        "\n",
        "$$ R_{g}(x) = \\sum_y l(y,g(x)) p(y|x)$$\n",
        "\n",
        "That is, we calculate the **average risk** over all choices y, of making choice g for a given sample.\n",
        "\n",
        "Then, if we want to calculate the overall risk, given all the samples in our set, we calculate:\n",
        "\n",
        "$$R(g) = \\sum_x p(x) R_{g}(x)$$\n",
        "\n",
        "It is sufficient to minimize the risk at each point or sample to minimize the overall risk since $p(x)$ is always positive.\n",
        "\n",
        "Consider the two class classification case. Say we make a \"decision g about which class\" at a sample x. Then:\n",
        "\n",
        "$$R_g(x) = l(1, g)p(1|x) + l(0, g)p(0|x).$$\n",
        "\n",
        "Then for the \"decision\" $g=1$ we have:\n",
        "\n",
        "$$R_1(x) = l(1,1)p(1|x) + l(0,1)p(0|x),$$\n",
        "\n",
        "and for the \"decision\" $g=0$ we have:\n",
        "\n",
        "$$R_0(x) = l(1,0)p(1|x) + l(0,0)p(0|x).$$\n",
        "\n",
        "Now, we'd choose $1$ for the sample at $x$ if:\n",
        "\n",
        "$$R_1(x) \\lt R_0(x).$$\n",
        "\n",
        "$$ P(1|x)(l(1,1) - l(1,0)) \\lt p(0|x)(l(0,0) - l(0,1))$$\n",
        "\n",
        "This gives us a ratio `r` between the probabilities to make a prediction. We assume this is true for all samples.\n",
        "\n",
        "So, to choose '1':\n",
        "\n",
        "$$p(1|x) \\gt r P(0|x) \\implies r=\\frac{l(0,1) - l(0,0)}{l(1,0) - l(1,1)} =\\frac{c_{FP} - c_{TN}}{c_{FN} - c_{TP}}$$\n",
        "\n",
        "This may also be written as:\n",
        "\n",
        "$$P(1|x) \\gt t = \\frac{r}{1+r}$$.\n",
        "\n",
        "If you assume that True positives and True negatives have no cost, and the cost of a false positive is equal to that of a false positive, then $r=1$ and the threshold is the usual intutive $t=0.5$."
      ]
    },
    {
      "cell_type": "code",
      "metadata": {
        "id": "D12VngrTykE_",
        "outputId": "81b24044-f493-424c-d83d-edc49088e7cf"
      },
      "source": [
        "cost"
      ],
      "execution_count": null,
      "outputs": [
        {
          "output_type": "execute_result",
          "data": {
            "text/plain": [
              "array([[   0.,  103.],\n",
              "       [1000.,  553.]])"
            ]
          },
          "metadata": {
            "tags": []
          },
          "execution_count": 219
        }
      ]
    },
    {
      "cell_type": "code",
      "metadata": {
        "id": "iqHiYZEIykFA"
      },
      "source": [
        "def rat(cost):\n",
        "    return (cost[0,1] - cost[0,0])/(cost[1,0]-cost[1,1])"
      ],
      "execution_count": null,
      "outputs": []
    },
    {
      "cell_type": "code",
      "metadata": {
        "id": "tlng-FBhykFA"
      },
      "source": [
        "def c_repredict(est, c, xtest):\n",
        "    r = rat(c)\n",
        "    print(r)\n",
        "    t=r/(1.+r)\n",
        "    print(\"t=\", t)\n",
        "    probs=est.predict_proba(xtest)\n",
        "    p0 = probs[:,0]\n",
        "    p1 = probs[:,1]\n",
        "    ypred = (p1 >= t)*1\n",
        "    return ypred"
      ],
      "execution_count": null,
      "outputs": []
    },
    {
      "cell_type": "code",
      "metadata": {
        "id": "I_k3BRFtykFB",
        "outputId": "b62d39d3-f7e8-4634-842f-9f9e677758aa"
      },
      "source": [
        "average_cost(ytest, c_repredict(clfdt, cost, Xtest), cost)"
      ],
      "execution_count": null,
      "outputs": [
        {
          "output_type": "stream",
          "text": [
            "0.23042505592841164\n",
            "t= 0.18727272727272729\n"
          ],
          "name": "stdout"
        },
        {
          "output_type": "execute_result",
          "data": {
            "text/plain": [
              "100.03148425787107"
            ]
          },
          "metadata": {
            "tags": []
          },
          "execution_count": 222
        }
      ]
    },
    {
      "cell_type": "markdown",
      "metadata": {
        "id": "XnlaolRnykFC"
      },
      "source": [
        "For reasons that will become clearer in a later lab, this value turns out to be only approximate, and we are better using a ROC curve or a Cost curve (below) to find minimum cost. However, it will get us in the right ballpark of the threshold we need. Note that the threshold itself depends only on costs and is independent of the classifier."
      ]
    },
    {
      "cell_type": "code",
      "metadata": {
        "id": "Deya6KbQykFC",
        "outputId": "c06f9262-ed7b-4e5b-dc53-ac96130af717"
      },
      "source": [
        "ts = np.linspace(0., 1., 100)\n",
        "plt.plot(ts, [average_cost(ytest, repredict(clfdt, t, Xtest), cost) for t in ts], '.' )\n",
        "plt.ylim(90, 130)"
      ],
      "execution_count": null,
      "outputs": [
        {
          "output_type": "execute_result",
          "data": {
            "text/plain": [
              "(90.0, 130.0)"
            ]
          },
          "metadata": {
            "tags": []
          },
          "execution_count": 223
        },
        {
          "output_type": "display_data",
          "data": {
            "image/png": "[encoded data removed]",
            "text/plain": [
              "<Figure size 432x288 with 1 Axes>"
            ]
          },
          "metadata": {
            "tags": [],
            "needs_background": "light"
          }
        }
      ]
    },
    {
      "cell_type": "code",
      "metadata": {
        "id": "qTWr7CMVykFC",
        "outputId": "115353a4-e2b1-4a4c-d09d-eb3b882ed101"
      },
      "source": [
        "list(zip(ts,[average_cost(ytest, repredict(clfdt, t, Xtest), cost) for t in ts]))"
      ],
      "execution_count": null,
      "outputs": [
        {
          "output_type": "execute_result",
          "data": {
            "text/plain": [
              "[(0.0, 168.77961019490255),\n",
              " (0.010101010101010102, 157.38905547226386),\n",
              " (0.020202020202020204, 107.64617691154423),\n",
              " (0.030303030303030304, 104.61019490254873),\n",
              " (0.04040404040404041, 104.61019490254873),\n",
              " (0.05050505050505051, 104.61019490254873),\n",
              " (0.06060606060606061, 104.06971514242879),\n",
              " (0.07070707070707072, 104.06971514242879),\n",
              " (0.08080808080808081, 104.06971514242879),\n",
              " (0.09090909090909091, 104.06971514242879),\n",
              " (0.10101010101010102, 104.06971514242879),\n",
              " (0.11111111111111112, 102.37106446776612),\n",
              " (0.12121212121212122, 101.98650674662669),\n",
              " (0.13131313131313133, 101.98650674662669),\n",
              " (0.14141414141414144, 99.97901049475263),\n",
              " (0.15151515151515152, 100.03148425787107),\n",
              " (0.16161616161616163, 100.03148425787107),\n",
              " (0.17171717171717174, 100.03148425787107),\n",
              " (0.18181818181818182, 100.03148425787107),\n",
              " (0.19191919191919193, 100.03148425787107),\n",
              " (0.20202020202020204, 100.03148425787107),\n",
              " (0.21212121212121213, 100.03148425787107),\n",
              " (0.22222222222222224, 100.03148425787107),\n",
              " (0.23232323232323235, 100.03148425787107),\n",
              " (0.24242424242424243, 100.03148425787107),\n",
              " (0.25252525252525254, 100.59970014992504),\n",
              " (0.26262626262626265, 100.59970014992504),\n",
              " (0.27272727272727276, 100.59970014992504),\n",
              " (0.2828282828282829, 100.59970014992504),\n",
              " (0.29292929292929293, 101.09070464767616),\n",
              " (0.30303030303030304, 101.09070464767616),\n",
              " (0.31313131313131315, 101.09070464767616),\n",
              " (0.32323232323232326, 101.09070464767616),\n",
              " (0.33333333333333337, 101.09070464767616),\n",
              " (0.3434343434343435, 101.09070464767616),\n",
              " (0.3535353535353536, 101.09070464767616),\n",
              " (0.36363636363636365, 101.09070464767616),\n",
              " (0.37373737373737376, 101.09070464767616),\n",
              " (0.38383838383838387, 101.09070464767616),\n",
              " (0.393939393939394, 101.09070464767616),\n",
              " (0.4040404040404041, 100.93628185907046),\n",
              " (0.4141414141414142, 100.93628185907046),\n",
              " (0.42424242424242425, 100.93628185907046),\n",
              " (0.43434343434343436, 100.93628185907046),\n",
              " (0.4444444444444445, 100.93628185907046),\n",
              " (0.4545454545454546, 100.93628185907046),\n",
              " (0.4646464646464647, 100.93628185907046),\n",
              " (0.4747474747474748, 100.93628185907046),\n",
              " (0.48484848484848486, 100.93628185907046),\n",
              " (0.494949494949495, 100.93628185907046),\n",
              " (0.5050505050505051, 100.96251874062969),\n",
              " (0.5151515151515152, 100.96251874062969),\n",
              " (0.5252525252525253, 100.96251874062969),\n",
              " (0.5353535353535354, 100.96251874062969),\n",
              " (0.5454545454545455, 100.96251874062969),\n",
              " (0.5555555555555556, 100.96251874062969),\n",
              " (0.5656565656565657, 100.96251874062969),\n",
              " (0.5757575757575758, 100.96251874062969),\n",
              " (0.5858585858585859, 100.96251874062969),\n",
              " (0.595959595959596, 100.96251874062969),\n",
              " (0.6060606060606061, 101.65892053973013),\n",
              " (0.6161616161616162, 101.65892053973013),\n",
              " (0.6262626262626263, 101.65892053973013),\n",
              " (0.6363636363636365, 101.65892053973013),\n",
              " (0.6464646464646465, 101.65892053973013),\n",
              " (0.6565656565656566, 101.65892053973013),\n",
              " (0.6666666666666667, 101.65892053973013),\n",
              " (0.6767676767676768, 101.65892053973013),\n",
              " (0.686868686868687, 101.65892053973013),\n",
              " (0.696969696969697, 101.65892053973013),\n",
              " (0.7070707070707072, 101.65892053973013),\n",
              " (0.7171717171717172, 101.47976011994002),\n",
              " (0.7272727272727273, 101.47976011994002),\n",
              " (0.7373737373737375, 101.47976011994002),\n",
              " (0.7474747474747475, 101.47976011994002),\n",
              " (0.7575757575757577, 104.00749625187406),\n",
              " (0.7676767676767677, 104.00749625187406),\n",
              " (0.7777777777777778, 104.00749625187406),\n",
              " (0.787878787878788, 104.00749625187406),\n",
              " (0.797979797979798, 104.00749625187406),\n",
              " (0.8080808080808082, 104.00749625187406),\n",
              " (0.8181818181818182, 104.00749625187406),\n",
              " (0.8282828282828284, 104.00749625187406),\n",
              " (0.8383838383838385, 104.00749625187406),\n",
              " (0.8484848484848485, 104.00749625187406),\n",
              " (0.8585858585858587, 104.00749625187406),\n",
              " (0.8686868686868687, 104.00749625187406),\n",
              " (0.8787878787878789, 104.00749625187406),\n",
              " (0.888888888888889, 104.00749625187406),\n",
              " (0.8989898989898991, 104.00749625187406),\n",
              " (0.9090909090909092, 104.00749625187406),\n",
              " (0.9191919191919192, 104.00749625187406),\n",
              " (0.9292929292929294, 104.00749625187406),\n",
              " (0.9393939393939394, 104.00749625187406),\n",
              " (0.9494949494949496, 104.00749625187406),\n",
              " (0.9595959595959597, 104.00749625187406),\n",
              " (0.9696969696969697, 104.00749625187406),\n",
              " (0.9797979797979799, 104.00749625187406),\n",
              " (0.98989898989899, 104.00749625187406),\n",
              " (1.0, 104.00749625187406)]"
            ]
          },
          "metadata": {
            "tags": []
          },
          "execution_count": 224
        }
      ]
    },
    {
      "cell_type": "markdown",
      "metadata": {
        "id": "3o8pyWX3ykFD"
      },
      "source": [
        "## Model selection from Cost and ROC"
      ]
    },
    {
      "cell_type": "markdown",
      "metadata": {
        "id": "wRKkunfGykFE"
      },
      "source": [
        "Notice that the ROC curve has a very interesting property: if you look at the confusion matrix , TPR is only calculated from the observed \"1\" row while FPR is calculated from the observed '0' row. This means that the ROC curve is idenpendent of the class balance/imbalance on the test set, and thus works for all ratios of positive to negative samples. The balance picks a point on the curve, as you can read below.\n",
        "\n",
        "Lets rewrite the cost equation from before.\n",
        "\n",
        "\\begin{eqnarray}\n",
        "Cost &=& c(1P,1A) \\times p(1P,1A) + c(1P,0A) \\times p(1P,0A) + c(0P,1A) \\times p(0P,1A) + c(0P,0A) \\times p(0P,0A) \\\\\n",
        "&=& p(1A) \\times \\left ( c(1P,1A) \\times p(1P | 1A) + c(0P,1A) \\times p(0P | 1A) \\right ) \\\\\n",
        "&+& p(0A) \\times \\left ( c(1P,0A) \\times p(1P,0A) + c(0P,0A) \\times p(0P | 0A) \\right ) \\\\\n",
        "&=& p(1A) \\times \\left ( c(1P,1A) \\times TPR + c(0P,1A) \\times (1 - TPR)\\right ) \\\\\n",
        "&+& p(0A) \\times \\left ( c(1P,0A) \\times FPR + c(0P,0A) \\times (1 - FPR) \\right )\n",
        "\\end{eqnarray}\n",
        "\n",
        "\n",
        "This can then be used to write TPR in terms of FPR, which as you can see from below is a line if you fix the cost. So lines on the graph correspond to a fixed cost. Of course they must intersect the ROC curve to be acceptable as coming from our classifier.\n",
        "\n",
        "$$TPR = \\frac{1}{p(1A)(c_{FN} - c_{TP})} \\left ( p(1A) c_{FP} + p(0A) c_{TN} - Cost \\right ) + r \\frac{p(0A)}{p(1A)} \\times FPR$$"
      ]
    },
    {
      "cell_type": "markdown",
      "metadata": {
        "id": "8d8Pv1y5ykFE"
      },
      "source": [
        "There are three observations to be made from here.\n",
        "\n",
        "1. The slope is the reprediction ratio $r$ multiplied by the negative positive imbalance. In the purely asymmetric case the ratio r is the ratio of the false-positive cost to the false-negative cost. Thus for the balanced case, low slopes penalize false negatives and correspond to low thresholds\n",
        "2. When imbalance is included, a much more middling slope is achieved, since low $r$ usually comes with high negative-positive imbalance. So we still usually land up finding a model somewhere in the northwest quadrant.\n",
        "3. The line you want is a tangent line. Why? The tangent line has the highest intercept. Since the cost is subtracted, the highest intercept corresponds to the lowest cost!.\n"
      ]
    },
    {
      "cell_type": "markdown",
      "metadata": {
        "id": "v8qq77ViykFF"
      },
      "source": [
        "A diagram illustrates this for balanced classes:\n",
        "![asyroc](https://github.com/bitanb1999/Churn/blob/main/images/asyroc.png?raw=1)"
      ]
    },
    {
      "cell_type": "markdown",
      "metadata": {
        "id": "xfYIAZmkykFF"
      },
      "source": [
        "So one can use the tangent line method to find the classifier we ought to use and multiple questions about ROC curves now get answered.\n",
        "\n",
        "(1) For a balanced data set, with equal misclassification costs, and no cost for true positives and true negatives, the slope is 1. Thus 45 degree lines are what we want, and hence closest to the north west corner, as thats where a 45 degree line would be tangent.\n",
        "(2) Classifiers which have some part of their ROC curve closer to the northwest corner than others have tangent lines with higher intercepts and thus lower cost\n",
        "(3) For any other case, find the line!"
      ]
    },
    {
      "cell_type": "code",
      "metadata": {
        "id": "ijkt0tovykFF",
        "outputId": "06b0efc5-3335-47b7-92b5-c72fb47194b9"
      },
      "source": [
        "print(rat(cost))\n",
        "slope = rat(cost)*(np.mean(ytest==0)/np.mean(ytest==1))\n",
        "slope"
      ],
      "execution_count": null,
      "outputs": [
        {
          "output_type": "stream",
          "text": [
            "0.23042505592841164\n"
          ],
          "name": "stdout"
        },
        {
          "output_type": "execute_result",
          "data": {
            "text/plain": [
              "1.3459186600126198"
            ]
          },
          "metadata": {
            "tags": []
          },
          "execution_count": 225
        }
      ]
    },
    {
      "cell_type": "code",
      "metadata": {
        "id": "QFmJ8JvZykFG"
      },
      "source": [
        "z1=np.arange(0.,1., 0.02)\n",
        "def plot_line(ax, intercept):\n",
        "    plt.figure(figsize=(12,12))\n",
        "    ax=plt.gca()\n",
        "    ax.set_xlim([0.0,1.0])\n",
        "    ax.set_ylim([0.0,1.0])\n",
        "    make_roc(\"gnb\",clfgnb, ytest, Xtest, ax, labe=60)\n",
        "    make_roc(\"dt\",clfdt, ytest, Xtest, ax, labe=2)\n",
        "    ax.plot(z1 , slope*z1 + intercept, 'k-')"
      ],
      "execution_count": null,
      "outputs": []
    },
    {
      "cell_type": "code",
      "metadata": {
        "id": "ibB3RIrWykFG",
        "outputId": "ab89f49f-ca67-4702-8875-336cca797cb4"
      },
      "source": [
        "from IPython.html.widgets import interact, fixed\n",
        "interact(plot_line, ax=fixed(ax), intercept=(0.0,1.0, 0.02))"
      ],
      "execution_count": null,
      "outputs": [
        {
          "output_type": "display_data",
          "data": {
            "application/vnd.jupyter.widget-view+json": {
              "model_id": "f3cde96ce5b0472cb188bf2b6c2ff0db",
              "version_major": 2,
              "version_minor": 0
            },
            "text/plain": [
              "interactive(children=(FloatSlider(value=0.5, description='intercept', max=1.0, step=0.02), Output()), _dom_cla…"
            ]
          },
          "metadata": {
            "tags": []
          }
        },
        {
          "output_type": "execute_result",
          "data": {
            "text/plain": [
              "<function __main__.plot_line(ax, intercept)>"
            ]
          },
          "metadata": {
            "tags": []
          },
          "execution_count": 233
        }
      ]
    },
    {
      "cell_type": "markdown",
      "metadata": {
        "id": "hcyDQiEsykFH"
      },
      "source": [
        "As you can see our slope is actually on the rising part of the curve, even with the imbalance. (Since the cost ratio isnt too small..an analyst should play around with the assumptions that went into the cost matrix!)"
      ]
    },
    {
      "cell_type": "markdown",
      "metadata": {
        "id": "L2bQ_tJXykFH"
      },
      "source": [
        "## Cost curves"
      ]
    },
    {
      "cell_type": "markdown",
      "metadata": {
        "id": "AYY5tzSbykFI"
      },
      "source": [
        "The proof is always in the pudding. So far we have used a method to calculate a rough threshold from the cost/utility matrix, and seen the ROC curve which implements one classifier per threshold to pick an appropriate model. But why not just plot the cost/profit (per person) per threshold on a ROC like curve to see which classifier maximizes profit/minimizes cost? \n",
        "\n",
        "Just like in a ROC curve, we go down the sorted (by score or probability) list of samples. We one-by-one add an additional sample to our positive samples, noting down the attendant classifier's TPR and FPR and threshold. In addition to what we do for the ROC curve, we now also note down the percentage of our list of samples predicted as positive. Remember we start from the mostest positive, where the percentage labelled as positive would be minuscule, like 0.1 or so and the threshold like a 0.99 in probability or so. As we decrease the threshold, the percentage predicted to be positive clearly increases until everything is predicted positive at a threshold of 0. What we now do is, at each such additional sample/threshold (given to us by the `roc_curve` function from `sklearn`), we calculate the expected profit per person and plot it against the percentage predicted positive by that threshold to produce a profit curve. Thus, small percentages correspond to samples most likely to be positive: a percentage of 8% means the top 8% of our samples ranked by likelihood of being positive.\n",
        "\n",
        "As in the ROC curve case, we use `sklearn`'s `roc_curve` function to return us a set of thresholds with TPRs and FPRs."
      ]
    },
    {
      "cell_type": "code",
      "metadata": {
        "id": "IMt5sd_UykFI"
      },
      "source": [
        "def percentage(tpr, fpr, priorp, priorn):\n",
        "    perc = tpr*priorp + fpr*priorn\n",
        "    return perc\n",
        "def av_cost2(tpr, fpr, cost, priorp, priorn):\n",
        "    profit = priorp*(cost[1][1]*tpr+cost[1][0]*(1.-tpr))+priorn*(cost[0][0]*(1.-fpr) +cost[0][1]*fpr)\n",
        "    return profit\n",
        "def plot_cost(name, clf, ytest, xtest, cost, ax=None, threshold=False, labe=200, proba=True):\n",
        "    initial=False\n",
        "    if not ax:\n",
        "        ax=plt.gca()\n",
        "        initial=True\n",
        "    if proba:\n",
        "        fpr, tpr, thresholds=roc_curve(ytest, clf.predict_proba(xtest)[:,1])\n",
        "    else:\n",
        "        fpr, tpr, thresholds=roc_curve(ytest, clf.decision_function(xtest))\n",
        "    priorp=np.mean(ytest)\n",
        "    priorn=1. - priorp\n",
        "    ben=[]\n",
        "    percs=[]\n",
        "    for i,t in enumerate(thresholds):\n",
        "        perc=percentage(tpr[i], fpr[i], priorp, priorn)\n",
        "        ev = av_cost2(tpr[i], fpr[i], cost, priorp, priorn)\n",
        "        ben.append(ev)\n",
        "        percs.append(perc*100)\n",
        "    ax.plot(percs, ben, '-', alpha=0.3, markersize=5, label='cost curve for %s' % name)\n",
        "    if threshold:\n",
        "        label_kwargs = {}\n",
        "        label_kwargs['bbox'] = dict(\n",
        "        boxstyle='round,pad=0.3', alpha=0.2,\n",
        "        )\n",
        "        for k in range(0, fpr.shape[0],labe):\n",
        "            #from https://gist.github.com/podshumok/c1d1c9394335d86255b8\n",
        "            threshold = str(np.round(thresholds[k], 2))\n",
        "            ax.annotate(threshold, (percs[k], ben[k]), **label_kwargs)\n",
        "    ax.legend(loc=\"lower right\")\n",
        "    return ax"
      ],
      "execution_count": null,
      "outputs": []
    },
    {
      "cell_type": "code",
      "metadata": {
        "id": "6t_A5MUSykFI",
        "outputId": "7b548f76-2c40-4835-a025-4ffee4754e81"
      },
      "source": [
        "fig, ax = plt.subplots(figsize=(12,10))\n",
        "ax = plot_cost(\"gnb\",clfgnb, ytest, Xtest, cost, ax=ax, threshold=True, labe=50);\n",
        "plot_cost(\"dt\",clfdt, ytest, Xtest, cost, ax, threshold=True, labe=2);\n",
        "ax.grid()"
      ],
      "execution_count": null,
      "outputs": [
        {
          "output_type": "display_data",
          "data": {
            "image/png": "[encoded data removed]",
            "text/plain": [
              "<Figure size 864x720 with 1 Axes>"
            ]
          },
          "metadata": {
            "tags": [],
            "needs_background": "light"
          }
        }
      ]
    },
    {
      "cell_type": "markdown",
      "metadata": {
        "id": "obqe57jVykFK"
      },
      "source": [
        "Note the customers on the left of this graph are most likely to churn (be positive).\n",
        "\n",
        "This if you had a finite budget, you should be targeting them!\n",
        "\n",
        "Finding the best classifier has a real consequence: you save money!!!\n",
        "\n",
        "![costcurves](https://github.com/bitanb1999/Churn/blob/main/images/costcurves.png?raw=1)"
      ]
    },
    {
      "cell_type": "code",
      "metadata": {
        "id": "Syw0LGM5ykFK",
        "outputId": "4f7f4271-02da-45df-8b7d-64b0a65be275"
      },
      "source": [
        "cost"
      ],
      "execution_count": null,
      "outputs": [
        {
          "output_type": "execute_result",
          "data": {
            "text/plain": [
              "array([[   0.,  103.],\n",
              "       [1000.,  553.]])"
            ]
          },
          "metadata": {
            "tags": []
          },
          "execution_count": 167
        }
      ]
    },
    {
      "cell_type": "code",
      "metadata": {
        "id": "B9PzffUwykFL"
      },
      "source": [
        "costmaker = lambda f: np.array([[tnc, fpc],[fnc, f*(offer_cost+admin_cost) + (1. - f)*(clv+admin_cost)]])"
      ],
      "execution_count": null,
      "outputs": []
    },
    {
      "cell_type": "markdown",
      "metadata": {
        "id": "G1bPdy60ykFM"
      },
      "source": [
        "What is only 10% converted?"
      ]
    },
    {
      "cell_type": "code",
      "metadata": {
        "id": "4ijTX7QQykFN",
        "outputId": "8bbe78d2-c551-4c20-ecab-691177ebf468"
      },
      "source": [
        "costmaker(0.3)"
      ],
      "execution_count": null,
      "outputs": [
        {
          "output_type": "execute_result",
          "data": {
            "text/plain": [
              "array([[   0.,  103.],\n",
              "       [1000.,  733.]])"
            ]
          },
          "metadata": {
            "tags": []
          },
          "execution_count": 243
        }
      ]
    },
    {
      "cell_type": "code",
      "metadata": {
        "id": "W_8cFRyxykFO",
        "outputId": "4a1b9d20-5ab1-4453-f177-4b9330fb9347"
      },
      "source": [
        "fig, ax = plt.subplots(figsize=(12,10))\n",
        "ax = plot_cost(\"gnb\",clfgnb, ytest, Xtest, costmaker(0.3), ax=ax, threshold=True, labe=50);\n",
        "plot_cost(\"dt\",clfdt, ytest, Xtest, costmaker(0.3), ax, threshold=True, labe=2);\n",
        "ax.grid()"
      ],
      "execution_count": null,
      "outputs": [
        {
          "output_type": "display_data",
          "data": {
            "image/png": "[encoded data removed]",
            "text/plain": [
              "<Figure size 864x720 with 1 Axes>"
            ]
          },
          "metadata": {
            "tags": [],
            "needs_background": "light"
          }
        }
      ]
    },
    {
      "cell_type": "markdown",
      "metadata": {
        "id": "TAGovBoJykFP"
      },
      "source": [
        "The above graph is a snapshot of a run. One thing worth noticing is that classifiers perform differently in different regions. If you targeted only the top 20% of your users..and these are the ones most likely to churn so you should target them first, you would want to use the decision-tree classifier. And you might only get to target these top 20 given your budget. Remember that there is a cost associated with targeting predicted positives. That cost can be read of the graph above. Say we had a million customers. Now, at 10%, or 100,000 we are talking about a minimum budget of 10.3 million dollars. \n",
        "\n",
        "If 10-15 million is your budget, then you use the decision tree classifier on your left. If 40-60 million is your budget, roughly, you would use the gnb classifier instead."
      ]
    },
    {
      "cell_type": "markdown",
      "metadata": {
        "id": "GK95EcF9ykFQ"
      },
      "source": [
        "## Lift Calculation\n",
        "\n",
        "Quoting Data Science for Business\n",
        "\n",
        ">Cumulative response curves plot the hit rate (tp rate; y axis), i.e., the percentage of positives correctly classified, as a function of the percentage of the population that is targeted (x axis). So, conceptually as we move down the list of instances ranked by the model, we target increasingly larger proportions of all the instances. Hopefully in the process, if the model is any good, when we are at the top of the list we will target a larger proportion of the actual positives than actual negatives. As with ROC curves, the diagonal line x = y represents random performance.\n",
        "\n",
        ">Intuitively, the lift of a classifier represents the advantage it provides over random guessing. The lift is the degree to which it “pushes up” the positive instances in a list above the negative instances.\n",
        "\n",
        ">The lift curve is essentially the value of the cumulative response curve at a given x point divided by the diagonal line (y = x) value at that point. The diagonal line of a cumulative response curve becomes a horizontal line at y = 1 on the lift curve. "
      ]
    },
    {
      "cell_type": "code",
      "metadata": {
        "id": "CIM-HfjDykFc"
      },
      "source": [
        "def plot_cum(name, clf, ytest, xtest, lift=False, ax=None, threshold=False, labe=200, proba=True):\n",
        "    initial=False\n",
        "    if not ax:\n",
        "        ax=plt.gca()\n",
        "        initial=True\n",
        "    if proba:\n",
        "        fpr, tpr, thresholds=roc_curve(ytest, clf.predict_proba(xtest)[:,1], drop_intermediate=False)\n",
        "    else:\n",
        "        fpr, tpr, thresholds=roc_curve(ytest, clf.decision_function(xtest), drop_intermediate=False)\n",
        "    priorp=np.mean(ytest)\n",
        "    priorn=1. - priorp\n",
        "    lifts=[]\n",
        "    percs=[]\n",
        "    for i,t in enumerate(thresholds):\n",
        "        perc=percentage(tpr[i], fpr[i], priorp, priorn)\n",
        "        ev = tpr[i]/perc\n",
        "        lifts.append(ev)\n",
        "        percs.append(perc*100)\n",
        "    if not lift:\n",
        "        ax.plot(percs, 100*tpr, '-', alpha=0.3, markersize=5, label='cumulative curve for %s' % name)\n",
        "    else:\n",
        "        ax.plot(percs, lifts, '-', alpha=0.3, markersize=5, label='cumulative curve for %s' % name)\n",
        "    if threshold:\n",
        "        label_kwargs = {}\n",
        "        label_kwargs['bbox'] = dict(\n",
        "        boxstyle='round,pad=0.3', alpha=0.2,\n",
        "        )\n",
        "        for k in range(0, fpr.shape[0],labe):\n",
        "            #from https://gist.github.com/podshumok/c1d1c9394335d86255b8\n",
        "            threshold = str(np.round(thresholds[k], 2))\n",
        "            if lift==False:\n",
        "                ax.annotate(threshold, (percs[k], 100*tpr[k]), **label_kwargs)\n",
        "                ax.plot([0, 100], [0, 100], 'k', alpha=0.2)\n",
        "            else:\n",
        "                ax.annotate(threshold, (percs[k], lifts[k]), **label_kwargs)\n",
        "    if list:\n",
        "        ax.legend(loc=\"upper right\")\n",
        "    else:\n",
        "        ax.legend(loc=\"lower right\")\n",
        "    return ax"
      ],
      "execution_count": null,
      "outputs": []
    },
    {
      "cell_type": "code",
      "metadata": {
        "id": "m767syT5ykFd",
        "outputId": "b9a0f59b-f639-48ed-f36d-2cd119ba75e9"
      },
      "source": [
        "roc_curve(ytest, clfdt.predict_proba(Xtest)[:,1], drop_intermediate=False)"
      ],
      "execution_count": null,
      "outputs": [
        {
          "output_type": "execute_result",
          "data": {
            "text/plain": [
              "(array([0.        , 0.00438982, 0.01755926, 0.02721686, 0.03072871,\n",
              "        0.03424056, 0.03599649, 0.04565408, 0.05443371, 0.06145742,\n",
              "        0.08428446, 0.1000878 , 0.11940299, 0.12554873, 0.16769096,\n",
              "        0.27831431, 0.78665496, 1.        ]),\n",
              " array([0.        , 0.65128205, 0.70769231, 0.71794872, 0.73333333,\n",
              "        0.73846154, 0.73846154, 0.75897436, 0.77948718, 0.78974359,\n",
              "        0.78974359, 0.80512821, 0.80512821, 0.80512821, 0.81538462,\n",
              "        0.83589744, 0.88717949, 1.        ]),\n",
              " array([2.        , 1.        , 0.75      , 0.71428571, 0.6       ,\n",
              "        0.5       , 0.4       , 0.28571429, 0.25      , 0.14285714,\n",
              "        0.13513514, 0.12      , 0.1025641 , 0.05882353, 0.02857143,\n",
              "        0.01648352, 0.01398601, 0.        ]))"
            ]
          },
          "metadata": {
            "tags": []
          },
          "execution_count": 251
        }
      ]
    },
    {
      "cell_type": "code",
      "metadata": {
        "id": "y1ip-2mMykFe",
        "outputId": "6db64bed-815d-49b0-e85d-1fb46f1e02f8"
      },
      "source": [
        "from sklearn.metrics import plot_roc_curve\n",
        "fig, ax = plt.subplots(figsize=(12,8))\n",
        "plot_roc_curve(clfgnb, Xtest, ytest, ax=ax)\n",
        "plot_roc_curve(clfdt, Xtest, ytest, ax=ax)"
      ],
      "execution_count": null,
      "outputs": [
        {
          "output_type": "execute_result",
          "data": {
            "text/plain": [
              "<sklearn.metrics._plot.roc_curve.RocCurveDisplay at 0x16363f8b0>"
            ]
          },
          "metadata": {
            "tags": []
          },
          "execution_count": 252
        },
        {
          "output_type": "display_data",
          "data": {
            "image/png": "[encoded data removed]",
            "text/plain": [
              "<Figure size 864x576 with 1 Axes>"
            ]
          },
          "metadata": {
            "tags": [],
            "needs_background": "light"
          }
        }
      ]
    },
    {
      "cell_type": "markdown",
      "metadata": {
        "id": "mxh2ZCVNykFe"
      },
      "source": [
        "#### Cumulative curve\n",
        "\n",
        "Plots ordered percentage of positives on x axis vs TPR on y-axis"
      ]
    },
    {
      "cell_type": "code",
      "metadata": {
        "id": "l-mULWifykFf",
        "outputId": "e5baeeb3-ea8f-4d80-fdd4-4500ebe690f9"
      },
      "source": [
        "fig, ax = plt.subplots(figsize=(12, 10))\n",
        "ax = plot_cum(\"gnb\",clfgnb, ytest, Xtest, lift=False, ax=ax, threshold=True, labe=100);\n",
        "plot_cum(\"dt\",clfdt, ytest, Xtest, lift=False, ax=ax, threshold=True, labe=1);"
      ],
      "execution_count": null,
      "outputs": [
        {
          "output_type": "stream",
          "text": [
            "<ipython-input-250-8d8142c70384>:16: RuntimeWarning: invalid value encountered in double_scalars\n",
            "  ev = tpr[i]/perc\n",
            "<ipython-input-250-8d8142c70384>:16: RuntimeWarning: invalid value encountered in double_scalars\n",
            "  ev = tpr[i]/perc\n"
          ],
          "name": "stderr"
        },
        {
          "output_type": "display_data",
          "data": {
            "image/png": "[encoded data removed]",
            "text/plain": [
              "<Figure size 864x720 with 1 Axes>"
            ]
          },
          "metadata": {
            "tags": [],
            "needs_background": "light"
          }
        }
      ]
    },
    {
      "cell_type": "markdown",
      "metadata": {
        "id": "jA8O7oIeykFf"
      },
      "source": [
        "#### Lift Curve\n",
        "\n",
        "Plots ordered percentage of positives on x axis vs TPR/random-TPR on y-axis. (random-tpr is a diagonal cumulative curve)"
      ]
    },
    {
      "cell_type": "code",
      "metadata": {
        "id": "qh7IGz6iykFf",
        "outputId": "3969eaa0-015b-468a-cc83-be61eab2ddb6"
      },
      "source": [
        "fig, ax = plt.subplots(figsize=(12, 10))\n",
        "ax = plot_cum(\"gnb\",clfgnb, ytest, Xtest, lift=True, ax=ax, threshold=True, labe=100);\n",
        "plot_cum(\"dt\",clfdt, ytest, Xtest, lift=True, ax=ax, threshold=True, labe=2);"
      ],
      "execution_count": null,
      "outputs": [
        {
          "output_type": "stream",
          "text": [
            "<ipython-input-250-8d8142c70384>:16: RuntimeWarning: invalid value encountered in double_scalars\n",
            "  ev = tpr[i]/perc\n",
            "<ipython-input-250-8d8142c70384>:16: RuntimeWarning: invalid value encountered in double_scalars\n",
            "  ev = tpr[i]/perc\n"
          ],
          "name": "stderr"
        },
        {
          "output_type": "display_data",
          "data": {
            "image/png": "[encoded data removed]",
            "text/plain": [
              "<Figure size 864x720 with 1 Axes>"
            ]
          },
          "metadata": {
            "tags": [],
            "needs_background": "light"
          }
        }
      ]
    },
    {
      "cell_type": "markdown",
      "metadata": {
        "id": "nDP6Qg3yykFg"
      },
      "source": [
        ">Sometimes you will hear claims like “our model gives a two times (or a 2X) lift”; this means that at the chosen threshold (often not mentioned), the lift curve shows that the model’s targeting is twice as good as random. On the cumulative response curve, the corresponding tp rate for the model will be twice the tp rate for the random-performance diagonal. (You\n",
        "\n",
        "Provost, Foster; Fawcett, Tom. Data Science for Business: What you need to know about data mining and data-analytic thinking (Kindle Locations 4866-4869). O'Reilly Media. Kindle Edition. "
      ]
    },
    {
      "cell_type": "markdown",
      "metadata": {
        "id": "Wl_izpL0ykFg"
      },
      "source": [
        "## Naive Bayes and Lift.\n",
        "\n",
        "Naive Bayes is an interesting classifier in the sense that you wouldnt trust the probabilities it poutputs highly, but you would trust the ordering of the samples with respect to their probabilities. In other words, the cost curves themselves might be wrong in the details but right in their zeitgeist. But the cumulative and lift curves would be quite trustable\n",
        "\n",
        "Naive bayes can be used in another way: that is to model the lift itself. \n",
        "\n",
        "Data science for business, again:\n",
        "\n",
        ">With a slight modification, we can adapt our Naive Bayes equation to model the different lifts attributable to the different pieces of evidence. The slight modification is to assume full feature independence, rather than the weaker assumption of conditional independence used for Naive Bayes. Let’s call this Naive-Naive Bayes, since it’s making stronger simplifying assumptions about the world. Assuming full feature independence:\n"
      ]
    },
    {
      "cell_type": "markdown",
      "metadata": {
        "id": "ETotGFnvykFh"
      },
      "source": [
        "$$p(C=1|{\\bf x})p({\\bf x}) = p({\\bf x} | C=1) p(C=1)$$\n",
        "\n",
        "Using conditional independence on the RHS and further assuming that the features in the evidence term are **unconditionally independent** as well:"
      ]
    },
    {
      "cell_type": "markdown",
      "metadata": {
        "id": "eQrF5CH4ykFh"
      },
      "source": [
        "$$P(C|{\\bf x}) = p(C) \\times \\frac{p(x_1|C) p(x_2|C)...}{p(x_1) p(x_2)...}$$\n",
        "\n",
        "and thus (the indices here index the feature, not the sample)\n",
        "\n",
        "$$P(C|{\\bf x}) = p(C) \\times \\frac{p(x_1|C)}{p(x_1)} \\times \\frac{p(x_2|C)}{p(x_2)} \\times ...$$\n",
        "\n",
        "so\n",
        "\n",
        "$$P(C|{\\bf x}) = p(C) \\times lift_1 \\times lift_2 \\times ...$$\n",
        "\n",
        "where\n",
        "\n",
        "$$lift_i = \\frac{p(x_i|C)}{p(x_i)}$$"
      ]
    },
    {
      "cell_type": "markdown",
      "metadata": {
        "id": "gjbXMoYcykFi"
      },
      "source": [
        "This can be calculated easily in the GNB models, but we can always set up feature histograms as well to comstruct a multinomial model "
      ]
    }
  ]
}